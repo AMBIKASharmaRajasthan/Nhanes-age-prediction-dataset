{
 "cells": [
  {
   "cell_type": "markdown",
   "id": "7c0ab0d8",
   "metadata": {},
   "source": [
    "# Import some basic libraries"
   ]
  },
  {
   "cell_type": "code",
   "execution_count": 1,
   "id": "53c01056",
   "metadata": {},
   "outputs": [],
   "source": [
    "import os\n",
    "import pandas as pd\n",
    "import numpy as np\n",
    "import matplotlib.pyplot as plt \n",
    "%matplotlib inline\n",
    "import seaborn as sns \n",
    "sns.set()\n",
    "\n",
    "import warnings\n",
    "warnings.filterwarnings(\"ignore\")"
   ]
  },
  {
   "cell_type": "code",
   "execution_count": 2,
   "id": "99ae36d4",
   "metadata": {},
   "outputs": [
    {
     "data": {
      "text/html": [
       "<div>\n",
       "<style scoped>\n",
       "    .dataframe tbody tr th:only-of-type {\n",
       "        vertical-align: middle;\n",
       "    }\n",
       "\n",
       "    .dataframe tbody tr th {\n",
       "        vertical-align: top;\n",
       "    }\n",
       "\n",
       "    .dataframe thead th {\n",
       "        text-align: right;\n",
       "    }\n",
       "</style>\n",
       "<table border=\"1\" class=\"dataframe\">\n",
       "  <thead>\n",
       "    <tr style=\"text-align: right;\">\n",
       "      <th></th>\n",
       "      <th>SEQN</th>\n",
       "      <th>age_group</th>\n",
       "      <th>RIDAGEYR</th>\n",
       "      <th>RIAGENDR</th>\n",
       "      <th>PAQ605</th>\n",
       "      <th>BMXBMI</th>\n",
       "      <th>LBXGLU</th>\n",
       "      <th>DIQ010</th>\n",
       "      <th>LBXGLT</th>\n",
       "      <th>LBXIN</th>\n",
       "    </tr>\n",
       "  </thead>\n",
       "  <tbody>\n",
       "    <tr>\n",
       "      <th>0</th>\n",
       "      <td>73564.0</td>\n",
       "      <td>Adult</td>\n",
       "      <td>61.0</td>\n",
       "      <td>2.0</td>\n",
       "      <td>2.0</td>\n",
       "      <td>35.7</td>\n",
       "      <td>110.0</td>\n",
       "      <td>2.0</td>\n",
       "      <td>150.0</td>\n",
       "      <td>14.91</td>\n",
       "    </tr>\n",
       "    <tr>\n",
       "      <th>1</th>\n",
       "      <td>73568.0</td>\n",
       "      <td>Adult</td>\n",
       "      <td>26.0</td>\n",
       "      <td>2.0</td>\n",
       "      <td>2.0</td>\n",
       "      <td>20.3</td>\n",
       "      <td>89.0</td>\n",
       "      <td>2.0</td>\n",
       "      <td>80.0</td>\n",
       "      <td>3.85</td>\n",
       "    </tr>\n",
       "    <tr>\n",
       "      <th>2</th>\n",
       "      <td>73576.0</td>\n",
       "      <td>Adult</td>\n",
       "      <td>16.0</td>\n",
       "      <td>1.0</td>\n",
       "      <td>2.0</td>\n",
       "      <td>23.2</td>\n",
       "      <td>89.0</td>\n",
       "      <td>2.0</td>\n",
       "      <td>68.0</td>\n",
       "      <td>6.14</td>\n",
       "    </tr>\n",
       "    <tr>\n",
       "      <th>3</th>\n",
       "      <td>73577.0</td>\n",
       "      <td>Adult</td>\n",
       "      <td>32.0</td>\n",
       "      <td>1.0</td>\n",
       "      <td>2.0</td>\n",
       "      <td>28.9</td>\n",
       "      <td>104.0</td>\n",
       "      <td>2.0</td>\n",
       "      <td>84.0</td>\n",
       "      <td>16.15</td>\n",
       "    </tr>\n",
       "    <tr>\n",
       "      <th>4</th>\n",
       "      <td>73580.0</td>\n",
       "      <td>Adult</td>\n",
       "      <td>38.0</td>\n",
       "      <td>2.0</td>\n",
       "      <td>1.0</td>\n",
       "      <td>35.9</td>\n",
       "      <td>103.0</td>\n",
       "      <td>2.0</td>\n",
       "      <td>81.0</td>\n",
       "      <td>10.92</td>\n",
       "    </tr>\n",
       "  </tbody>\n",
       "</table>\n",
       "</div>"
      ],
      "text/plain": [
       "      SEQN age_group  RIDAGEYR  RIAGENDR  PAQ605  BMXBMI  LBXGLU  DIQ010  \\\n",
       "0  73564.0     Adult      61.0       2.0     2.0    35.7   110.0     2.0   \n",
       "1  73568.0     Adult      26.0       2.0     2.0    20.3    89.0     2.0   \n",
       "2  73576.0     Adult      16.0       1.0     2.0    23.2    89.0     2.0   \n",
       "3  73577.0     Adult      32.0       1.0     2.0    28.9   104.0     2.0   \n",
       "4  73580.0     Adult      38.0       2.0     1.0    35.9   103.0     2.0   \n",
       "\n",
       "   LBXGLT  LBXIN  \n",
       "0   150.0  14.91  \n",
       "1    80.0   3.85  \n",
       "2    68.0   6.14  \n",
       "3    84.0  16.15  \n",
       "4    81.0  10.92  "
      ]
     },
     "execution_count": 2,
     "metadata": {},
     "output_type": "execute_result"
    }
   ],
   "source": [
    "df = pd.read_csv(\"NHANES_age_prediction.csv\") \n",
    "df.head()"
   ]
  },
  {
   "cell_type": "code",
   "execution_count": 3,
   "id": "fa5fcf8c",
   "metadata": {},
   "outputs": [
    {
     "data": {
      "text/html": [
       "<div>\n",
       "<style scoped>\n",
       "    .dataframe tbody tr th:only-of-type {\n",
       "        vertical-align: middle;\n",
       "    }\n",
       "\n",
       "    .dataframe tbody tr th {\n",
       "        vertical-align: top;\n",
       "    }\n",
       "\n",
       "    .dataframe thead th {\n",
       "        text-align: right;\n",
       "    }\n",
       "</style>\n",
       "<table border=\"1\" class=\"dataframe\">\n",
       "  <thead>\n",
       "    <tr style=\"text-align: right;\">\n",
       "      <th></th>\n",
       "      <th>age_group</th>\n",
       "      <th>RIDAGEYR</th>\n",
       "      <th>RIAGENDR</th>\n",
       "      <th>PAQ605</th>\n",
       "      <th>BMXBMI</th>\n",
       "      <th>LBXGLU</th>\n",
       "      <th>DIQ010</th>\n",
       "      <th>LBXGLT</th>\n",
       "      <th>LBXIN</th>\n",
       "    </tr>\n",
       "  </thead>\n",
       "  <tbody>\n",
       "    <tr>\n",
       "      <th>0</th>\n",
       "      <td>Adult</td>\n",
       "      <td>61.0</td>\n",
       "      <td>2.0</td>\n",
       "      <td>2.0</td>\n",
       "      <td>35.7</td>\n",
       "      <td>110.0</td>\n",
       "      <td>2.0</td>\n",
       "      <td>150.0</td>\n",
       "      <td>14.91</td>\n",
       "    </tr>\n",
       "    <tr>\n",
       "      <th>1</th>\n",
       "      <td>Adult</td>\n",
       "      <td>26.0</td>\n",
       "      <td>2.0</td>\n",
       "      <td>2.0</td>\n",
       "      <td>20.3</td>\n",
       "      <td>89.0</td>\n",
       "      <td>2.0</td>\n",
       "      <td>80.0</td>\n",
       "      <td>3.85</td>\n",
       "    </tr>\n",
       "    <tr>\n",
       "      <th>2</th>\n",
       "      <td>Adult</td>\n",
       "      <td>16.0</td>\n",
       "      <td>1.0</td>\n",
       "      <td>2.0</td>\n",
       "      <td>23.2</td>\n",
       "      <td>89.0</td>\n",
       "      <td>2.0</td>\n",
       "      <td>68.0</td>\n",
       "      <td>6.14</td>\n",
       "    </tr>\n",
       "    <tr>\n",
       "      <th>3</th>\n",
       "      <td>Adult</td>\n",
       "      <td>32.0</td>\n",
       "      <td>1.0</td>\n",
       "      <td>2.0</td>\n",
       "      <td>28.9</td>\n",
       "      <td>104.0</td>\n",
       "      <td>2.0</td>\n",
       "      <td>84.0</td>\n",
       "      <td>16.15</td>\n",
       "    </tr>\n",
       "    <tr>\n",
       "      <th>4</th>\n",
       "      <td>Adult</td>\n",
       "      <td>38.0</td>\n",
       "      <td>2.0</td>\n",
       "      <td>1.0</td>\n",
       "      <td>35.9</td>\n",
       "      <td>103.0</td>\n",
       "      <td>2.0</td>\n",
       "      <td>81.0</td>\n",
       "      <td>10.92</td>\n",
       "    </tr>\n",
       "  </tbody>\n",
       "</table>\n",
       "</div>"
      ],
      "text/plain": [
       "  age_group  RIDAGEYR  RIAGENDR  PAQ605  BMXBMI  LBXGLU  DIQ010  LBXGLT  LBXIN\n",
       "0     Adult      61.0       2.0     2.0    35.7   110.0     2.0   150.0  14.91\n",
       "1     Adult      26.0       2.0     2.0    20.3    89.0     2.0    80.0   3.85\n",
       "2     Adult      16.0       1.0     2.0    23.2    89.0     2.0    68.0   6.14\n",
       "3     Adult      32.0       1.0     2.0    28.9   104.0     2.0    84.0  16.15\n",
       "4     Adult      38.0       2.0     1.0    35.9   103.0     2.0    81.0  10.92"
      ]
     },
     "execution_count": 3,
     "metadata": {},
     "output_type": "execute_result"
    }
   ],
   "source": [
    "df.drop([\"SEQN\"], axis=1 , inplace = True)\n",
    "df.head()"
   ]
  },
  {
   "cell_type": "code",
   "execution_count": 4,
   "id": "d175a711",
   "metadata": {},
   "outputs": [
    {
     "name": "stdout",
     "output_type": "stream",
     "text": [
      "<class 'pandas.core.frame.DataFrame'>\n",
      "RangeIndex: 2278 entries, 0 to 2277\n",
      "Data columns (total 9 columns):\n",
      " #   Column     Non-Null Count  Dtype  \n",
      "---  ------     --------------  -----  \n",
      " 0   age_group  2278 non-null   object \n",
      " 1   RIDAGEYR   2278 non-null   float64\n",
      " 2   RIAGENDR   2278 non-null   float64\n",
      " 3   PAQ605     2278 non-null   float64\n",
      " 4   BMXBMI     2278 non-null   float64\n",
      " 5   LBXGLU     2278 non-null   float64\n",
      " 6   DIQ010     2278 non-null   float64\n",
      " 7   LBXGLT     2278 non-null   float64\n",
      " 8   LBXIN      2278 non-null   float64\n",
      "dtypes: float64(8), object(1)\n",
      "memory usage: 160.3+ KB\n"
     ]
    }
   ],
   "source": [
    "df.info()"
   ]
  },
  {
   "cell_type": "code",
   "execution_count": 5,
   "id": "54ab8f5d",
   "metadata": {},
   "outputs": [
    {
     "data": {
      "text/plain": [
       "age_group    0\n",
       "RIDAGEYR     0\n",
       "RIAGENDR     0\n",
       "PAQ605       0\n",
       "BMXBMI       0\n",
       "LBXGLU       0\n",
       "DIQ010       0\n",
       "LBXGLT       0\n",
       "LBXIN        0\n",
       "dtype: int64"
      ]
     },
     "execution_count": 5,
     "metadata": {},
     "output_type": "execute_result"
    }
   ],
   "source": [
    "df.isnull().sum()"
   ]
  },
  {
   "cell_type": "markdown",
   "id": "fcf8f24c",
   "metadata": {},
   "source": [
    "# There is no missing value"
   ]
  },
  {
   "cell_type": "code",
   "execution_count": 6,
   "id": "856f4f1c",
   "metadata": {},
   "outputs": [
    {
     "data": {
      "text/plain": [
       "age_group\n",
       "Adult     1914\n",
       "Senior     364\n",
       "Name: count, dtype: int64"
      ]
     },
     "execution_count": 6,
     "metadata": {},
     "output_type": "execute_result"
    }
   ],
   "source": [
    "df.value_counts(\"age_group\")"
   ]
  },
  {
   "cell_type": "code",
   "execution_count": 7,
   "id": "5ae62915",
   "metadata": {},
   "outputs": [],
   "source": [
    "df[\"age_group\"] = df [\"age_group\"].astype('category')\n",
    "df[\"age_group\"] = df[\"age_group\"].cat.codes"
   ]
  },
  {
   "cell_type": "code",
   "execution_count": 8,
   "id": "3e05f43b",
   "metadata": {},
   "outputs": [
    {
     "data": {
      "text/plain": [
       "age_group\n",
       "0    1914\n",
       "1     364\n",
       "Name: count, dtype: int64"
      ]
     },
     "execution_count": 8,
     "metadata": {},
     "output_type": "execute_result"
    }
   ],
   "source": [
    "df.value_counts(\"age_group\")"
   ]
  },
  {
   "cell_type": "code",
   "execution_count": 9,
   "id": "973dd69c",
   "metadata": {},
   "outputs": [
    {
     "data": {
      "text/html": [
       "<div>\n",
       "<style scoped>\n",
       "    .dataframe tbody tr th:only-of-type {\n",
       "        vertical-align: middle;\n",
       "    }\n",
       "\n",
       "    .dataframe tbody tr th {\n",
       "        vertical-align: top;\n",
       "    }\n",
       "\n",
       "    .dataframe thead th {\n",
       "        text-align: right;\n",
       "    }\n",
       "</style>\n",
       "<table border=\"1\" class=\"dataframe\">\n",
       "  <thead>\n",
       "    <tr style=\"text-align: right;\">\n",
       "      <th></th>\n",
       "      <th>age_group</th>\n",
       "      <th>RIDAGEYR</th>\n",
       "      <th>RIAGENDR</th>\n",
       "      <th>PAQ605</th>\n",
       "      <th>BMXBMI</th>\n",
       "      <th>LBXGLU</th>\n",
       "      <th>DIQ010</th>\n",
       "      <th>LBXGLT</th>\n",
       "      <th>LBXIN</th>\n",
       "    </tr>\n",
       "  </thead>\n",
       "  <tbody>\n",
       "    <tr>\n",
       "      <th>0</th>\n",
       "      <td>0</td>\n",
       "      <td>61.0</td>\n",
       "      <td>2.0</td>\n",
       "      <td>2.0</td>\n",
       "      <td>35.7</td>\n",
       "      <td>110.0</td>\n",
       "      <td>2.0</td>\n",
       "      <td>150.0</td>\n",
       "      <td>14.91</td>\n",
       "    </tr>\n",
       "    <tr>\n",
       "      <th>1</th>\n",
       "      <td>0</td>\n",
       "      <td>26.0</td>\n",
       "      <td>2.0</td>\n",
       "      <td>2.0</td>\n",
       "      <td>20.3</td>\n",
       "      <td>89.0</td>\n",
       "      <td>2.0</td>\n",
       "      <td>80.0</td>\n",
       "      <td>3.85</td>\n",
       "    </tr>\n",
       "    <tr>\n",
       "      <th>2</th>\n",
       "      <td>0</td>\n",
       "      <td>16.0</td>\n",
       "      <td>1.0</td>\n",
       "      <td>2.0</td>\n",
       "      <td>23.2</td>\n",
       "      <td>89.0</td>\n",
       "      <td>2.0</td>\n",
       "      <td>68.0</td>\n",
       "      <td>6.14</td>\n",
       "    </tr>\n",
       "    <tr>\n",
       "      <th>3</th>\n",
       "      <td>0</td>\n",
       "      <td>32.0</td>\n",
       "      <td>1.0</td>\n",
       "      <td>2.0</td>\n",
       "      <td>28.9</td>\n",
       "      <td>104.0</td>\n",
       "      <td>2.0</td>\n",
       "      <td>84.0</td>\n",
       "      <td>16.15</td>\n",
       "    </tr>\n",
       "    <tr>\n",
       "      <th>4</th>\n",
       "      <td>0</td>\n",
       "      <td>38.0</td>\n",
       "      <td>2.0</td>\n",
       "      <td>1.0</td>\n",
       "      <td>35.9</td>\n",
       "      <td>103.0</td>\n",
       "      <td>2.0</td>\n",
       "      <td>81.0</td>\n",
       "      <td>10.92</td>\n",
       "    </tr>\n",
       "  </tbody>\n",
       "</table>\n",
       "</div>"
      ],
      "text/plain": [
       "   age_group  RIDAGEYR  RIAGENDR  PAQ605  BMXBMI  LBXGLU  DIQ010  LBXGLT  \\\n",
       "0          0      61.0       2.0     2.0    35.7   110.0     2.0   150.0   \n",
       "1          0      26.0       2.0     2.0    20.3    89.0     2.0    80.0   \n",
       "2          0      16.0       1.0     2.0    23.2    89.0     2.0    68.0   \n",
       "3          0      32.0       1.0     2.0    28.9   104.0     2.0    84.0   \n",
       "4          0      38.0       2.0     1.0    35.9   103.0     2.0    81.0   \n",
       "\n",
       "   LBXIN  \n",
       "0  14.91  \n",
       "1   3.85  \n",
       "2   6.14  \n",
       "3  16.15  \n",
       "4  10.92  "
      ]
     },
     "execution_count": 9,
     "metadata": {},
     "output_type": "execute_result"
    }
   ],
   "source": [
    "df.head()"
   ]
  },
  {
   "cell_type": "code",
   "execution_count": 10,
   "id": "1b8e88ec",
   "metadata": {},
   "outputs": [
    {
     "data": {
      "text/html": [
       "<div>\n",
       "<style scoped>\n",
       "    .dataframe tbody tr th:only-of-type {\n",
       "        vertical-align: middle;\n",
       "    }\n",
       "\n",
       "    .dataframe tbody tr th {\n",
       "        vertical-align: top;\n",
       "    }\n",
       "\n",
       "    .dataframe thead th {\n",
       "        text-align: right;\n",
       "    }\n",
       "</style>\n",
       "<table border=\"1\" class=\"dataframe\">\n",
       "  <thead>\n",
       "    <tr style=\"text-align: right;\">\n",
       "      <th></th>\n",
       "      <th>age_group</th>\n",
       "      <th>RIDAGEYR</th>\n",
       "      <th>RIAGENDR</th>\n",
       "      <th>PAQ605</th>\n",
       "      <th>BMXBMI</th>\n",
       "      <th>LBXGLU</th>\n",
       "      <th>DIQ010</th>\n",
       "      <th>LBXGLT</th>\n",
       "      <th>LBXIN</th>\n",
       "    </tr>\n",
       "  </thead>\n",
       "  <tbody>\n",
       "    <tr>\n",
       "      <th>count</th>\n",
       "      <td>2278.000000</td>\n",
       "      <td>2278.000000</td>\n",
       "      <td>2278.000000</td>\n",
       "      <td>2278.000000</td>\n",
       "      <td>2278.000000</td>\n",
       "      <td>2278.000000</td>\n",
       "      <td>2278.000000</td>\n",
       "      <td>2278.000000</td>\n",
       "      <td>2278.000000</td>\n",
       "    </tr>\n",
       "    <tr>\n",
       "      <th>mean</th>\n",
       "      <td>0.159789</td>\n",
       "      <td>41.795874</td>\n",
       "      <td>1.511414</td>\n",
       "      <td>1.822651</td>\n",
       "      <td>27.955180</td>\n",
       "      <td>99.553117</td>\n",
       "      <td>2.016242</td>\n",
       "      <td>114.978929</td>\n",
       "      <td>11.834794</td>\n",
       "    </tr>\n",
       "    <tr>\n",
       "      <th>std</th>\n",
       "      <td>0.366491</td>\n",
       "      <td>20.156111</td>\n",
       "      <td>0.499979</td>\n",
       "      <td>0.398918</td>\n",
       "      <td>7.248962</td>\n",
       "      <td>17.889834</td>\n",
       "      <td>0.185556</td>\n",
       "      <td>47.061239</td>\n",
       "      <td>9.718812</td>\n",
       "    </tr>\n",
       "    <tr>\n",
       "      <th>min</th>\n",
       "      <td>0.000000</td>\n",
       "      <td>12.000000</td>\n",
       "      <td>1.000000</td>\n",
       "      <td>1.000000</td>\n",
       "      <td>14.500000</td>\n",
       "      <td>63.000000</td>\n",
       "      <td>1.000000</td>\n",
       "      <td>40.000000</td>\n",
       "      <td>0.140000</td>\n",
       "    </tr>\n",
       "    <tr>\n",
       "      <th>25%</th>\n",
       "      <td>0.000000</td>\n",
       "      <td>24.000000</td>\n",
       "      <td>1.000000</td>\n",
       "      <td>2.000000</td>\n",
       "      <td>22.800000</td>\n",
       "      <td>91.000000</td>\n",
       "      <td>2.000000</td>\n",
       "      <td>87.000000</td>\n",
       "      <td>5.860000</td>\n",
       "    </tr>\n",
       "    <tr>\n",
       "      <th>50%</th>\n",
       "      <td>0.000000</td>\n",
       "      <td>41.000000</td>\n",
       "      <td>2.000000</td>\n",
       "      <td>2.000000</td>\n",
       "      <td>26.800000</td>\n",
       "      <td>97.000000</td>\n",
       "      <td>2.000000</td>\n",
       "      <td>105.000000</td>\n",
       "      <td>9.040000</td>\n",
       "    </tr>\n",
       "    <tr>\n",
       "      <th>75%</th>\n",
       "      <td>0.000000</td>\n",
       "      <td>58.000000</td>\n",
       "      <td>2.000000</td>\n",
       "      <td>2.000000</td>\n",
       "      <td>31.200000</td>\n",
       "      <td>104.000000</td>\n",
       "      <td>2.000000</td>\n",
       "      <td>130.000000</td>\n",
       "      <td>14.440000</td>\n",
       "    </tr>\n",
       "    <tr>\n",
       "      <th>max</th>\n",
       "      <td>1.000000</td>\n",
       "      <td>80.000000</td>\n",
       "      <td>2.000000</td>\n",
       "      <td>7.000000</td>\n",
       "      <td>70.100000</td>\n",
       "      <td>405.000000</td>\n",
       "      <td>3.000000</td>\n",
       "      <td>604.000000</td>\n",
       "      <td>102.290000</td>\n",
       "    </tr>\n",
       "  </tbody>\n",
       "</table>\n",
       "</div>"
      ],
      "text/plain": [
       "         age_group     RIDAGEYR     RIAGENDR       PAQ605       BMXBMI  \\\n",
       "count  2278.000000  2278.000000  2278.000000  2278.000000  2278.000000   \n",
       "mean      0.159789    41.795874     1.511414     1.822651    27.955180   \n",
       "std       0.366491    20.156111     0.499979     0.398918     7.248962   \n",
       "min       0.000000    12.000000     1.000000     1.000000    14.500000   \n",
       "25%       0.000000    24.000000     1.000000     2.000000    22.800000   \n",
       "50%       0.000000    41.000000     2.000000     2.000000    26.800000   \n",
       "75%       0.000000    58.000000     2.000000     2.000000    31.200000   \n",
       "max       1.000000    80.000000     2.000000     7.000000    70.100000   \n",
       "\n",
       "            LBXGLU       DIQ010       LBXGLT        LBXIN  \n",
       "count  2278.000000  2278.000000  2278.000000  2278.000000  \n",
       "mean     99.553117     2.016242   114.978929    11.834794  \n",
       "std      17.889834     0.185556    47.061239     9.718812  \n",
       "min      63.000000     1.000000    40.000000     0.140000  \n",
       "25%      91.000000     2.000000    87.000000     5.860000  \n",
       "50%      97.000000     2.000000   105.000000     9.040000  \n",
       "75%     104.000000     2.000000   130.000000    14.440000  \n",
       "max     405.000000     3.000000   604.000000   102.290000  "
      ]
     },
     "execution_count": 10,
     "metadata": {},
     "output_type": "execute_result"
    }
   ],
   "source": [
    "df.describe()"
   ]
  },
  {
   "cell_type": "markdown",
   "id": "108ed2f4",
   "metadata": {},
   "source": [
    "# Feature Scalling"
   ]
  },
  {
   "cell_type": "markdown",
   "id": "760451a9",
   "metadata": {},
   "source": [
    "# Standarization"
   ]
  },
  {
   "cell_type": "code",
   "execution_count": 11,
   "id": "69498f38",
   "metadata": {},
   "outputs": [],
   "source": [
    "from sklearn.preprocessing import StandardScaler\n",
    "std_scaler = StandardScaler()\n",
    "df_std = std_scaler.fit_transform(df)"
   ]
  },
  {
   "cell_type": "code",
   "execution_count": 12,
   "id": "f53d9304",
   "metadata": {},
   "outputs": [
    {
     "data": {
      "text/plain": [
       "array([[-0.43609361,  0.95297863,  0.97742765, ..., -0.08755269,\n",
       "         0.74432296,  0.31648741],\n",
       "       [-0.43609361, -0.78384872,  0.97742765, ..., -0.08755269,\n",
       "        -0.74342728, -0.82176167],\n",
       "       [-0.43609361, -1.2800851 , -1.02309363, ..., -0.08755269,\n",
       "        -0.99847018, -0.58608442],\n",
       "       ...,\n",
       "       [-0.43609361, -0.38685961, -1.02309363, ..., -0.08755269,\n",
       "         0.19173001,  0.98544031],\n",
       "       [-0.43609361,  0.90335499,  0.97742765, ..., -0.08755269,\n",
       "        -0.14832719, -0.70443762],\n",
       "       [-0.43609361, -0.78384872, -1.02309363, ..., -0.08755269,\n",
       "        -0.14832719, -0.83102409]])"
      ]
     },
     "execution_count": 12,
     "metadata": {},
     "output_type": "execute_result"
    }
   ],
   "source": [
    "df_std"
   ]
  },
  {
   "cell_type": "code",
   "execution_count": 13,
   "id": "56c34299",
   "metadata": {},
   "outputs": [
    {
     "data": {
      "text/html": [
       "<div>\n",
       "<style scoped>\n",
       "    .dataframe tbody tr th:only-of-type {\n",
       "        vertical-align: middle;\n",
       "    }\n",
       "\n",
       "    .dataframe tbody tr th {\n",
       "        vertical-align: top;\n",
       "    }\n",
       "\n",
       "    .dataframe thead th {\n",
       "        text-align: right;\n",
       "    }\n",
       "</style>\n",
       "<table border=\"1\" class=\"dataframe\">\n",
       "  <thead>\n",
       "    <tr style=\"text-align: right;\">\n",
       "      <th></th>\n",
       "      <th>0</th>\n",
       "      <th>1</th>\n",
       "      <th>2</th>\n",
       "      <th>3</th>\n",
       "      <th>4</th>\n",
       "      <th>5</th>\n",
       "      <th>6</th>\n",
       "      <th>7</th>\n",
       "      <th>8</th>\n",
       "    </tr>\n",
       "  </thead>\n",
       "  <tbody>\n",
       "    <tr>\n",
       "      <th>0</th>\n",
       "      <td>-0.436094</td>\n",
       "      <td>0.952979</td>\n",
       "      <td>0.977428</td>\n",
       "      <td>0.444672</td>\n",
       "      <td>1.068639</td>\n",
       "      <td>0.584085</td>\n",
       "      <td>-0.087553</td>\n",
       "      <td>0.744323</td>\n",
       "      <td>0.316487</td>\n",
       "    </tr>\n",
       "    <tr>\n",
       "      <th>1</th>\n",
       "      <td>-0.436094</td>\n",
       "      <td>-0.783849</td>\n",
       "      <td>0.977428</td>\n",
       "      <td>0.444672</td>\n",
       "      <td>-1.056270</td>\n",
       "      <td>-0.590024</td>\n",
       "      <td>-0.087553</td>\n",
       "      <td>-0.743427</td>\n",
       "      <td>-0.821762</td>\n",
       "    </tr>\n",
       "    <tr>\n",
       "      <th>2</th>\n",
       "      <td>-0.436094</td>\n",
       "      <td>-1.280085</td>\n",
       "      <td>-1.023094</td>\n",
       "      <td>0.444672</td>\n",
       "      <td>-0.656125</td>\n",
       "      <td>-0.590024</td>\n",
       "      <td>-0.087553</td>\n",
       "      <td>-0.998470</td>\n",
       "      <td>-0.586084</td>\n",
       "    </tr>\n",
       "    <tr>\n",
       "      <th>3</th>\n",
       "      <td>-0.436094</td>\n",
       "      <td>-0.486107</td>\n",
       "      <td>-1.023094</td>\n",
       "      <td>0.444672</td>\n",
       "      <td>0.130367</td>\n",
       "      <td>0.248625</td>\n",
       "      <td>-0.087553</td>\n",
       "      <td>-0.658413</td>\n",
       "      <td>0.444103</td>\n",
       "    </tr>\n",
       "    <tr>\n",
       "      <th>4</th>\n",
       "      <td>-0.436094</td>\n",
       "      <td>-0.188365</td>\n",
       "      <td>0.977428</td>\n",
       "      <td>-2.062661</td>\n",
       "      <td>1.096235</td>\n",
       "      <td>0.192715</td>\n",
       "      <td>-0.087553</td>\n",
       "      <td>-0.722174</td>\n",
       "      <td>-0.094147</td>\n",
       "    </tr>\n",
       "    <tr>\n",
       "      <th>...</th>\n",
       "      <td>...</td>\n",
       "      <td>...</td>\n",
       "      <td>...</td>\n",
       "      <td>...</td>\n",
       "      <td>...</td>\n",
       "      <td>...</td>\n",
       "      <td>...</td>\n",
       "      <td>...</td>\n",
       "      <td>...</td>\n",
       "    </tr>\n",
       "    <tr>\n",
       "      <th>2273</th>\n",
       "      <td>-0.436094</td>\n",
       "      <td>-0.188365</td>\n",
       "      <td>0.977428</td>\n",
       "      <td>0.444672</td>\n",
       "      <td>0.765080</td>\n",
       "      <td>0.024985</td>\n",
       "      <td>-0.087553</td>\n",
       "      <td>-0.892202</td>\n",
       "      <td>-0.545947</td>\n",
       "    </tr>\n",
       "    <tr>\n",
       "      <th>2274</th>\n",
       "      <td>-0.436094</td>\n",
       "      <td>0.952979</td>\n",
       "      <td>-1.023094</td>\n",
       "      <td>0.444672</td>\n",
       "      <td>0.282146</td>\n",
       "      <td>-0.366384</td>\n",
       "      <td>-0.087553</td>\n",
       "      <td>1.977030</td>\n",
       "      <td>0.121976</td>\n",
       "    </tr>\n",
       "    <tr>\n",
       "      <th>2275</th>\n",
       "      <td>-0.436094</td>\n",
       "      <td>-0.386860</td>\n",
       "      <td>-1.023094</td>\n",
       "      <td>0.444672</td>\n",
       "      <td>-0.587134</td>\n",
       "      <td>0.192715</td>\n",
       "      <td>-0.087553</td>\n",
       "      <td>0.191730</td>\n",
       "      <td>0.985440</td>\n",
       "    </tr>\n",
       "    <tr>\n",
       "      <th>2276</th>\n",
       "      <td>-0.436094</td>\n",
       "      <td>0.903355</td>\n",
       "      <td>0.977428</td>\n",
       "      <td>0.444672</td>\n",
       "      <td>-0.076604</td>\n",
       "      <td>-0.534114</td>\n",
       "      <td>-0.087553</td>\n",
       "      <td>-0.148327</td>\n",
       "      <td>-0.704438</td>\n",
       "    </tr>\n",
       "    <tr>\n",
       "      <th>2277</th>\n",
       "      <td>-0.436094</td>\n",
       "      <td>-0.783849</td>\n",
       "      <td>-1.023094</td>\n",
       "      <td>0.444672</td>\n",
       "      <td>-0.476749</td>\n",
       "      <td>0.472265</td>\n",
       "      <td>-0.087553</td>\n",
       "      <td>-0.148327</td>\n",
       "      <td>-0.831024</td>\n",
       "    </tr>\n",
       "  </tbody>\n",
       "</table>\n",
       "<p>2278 rows × 9 columns</p>\n",
       "</div>"
      ],
      "text/plain": [
       "             0         1         2         3         4         5         6  \\\n",
       "0    -0.436094  0.952979  0.977428  0.444672  1.068639  0.584085 -0.087553   \n",
       "1    -0.436094 -0.783849  0.977428  0.444672 -1.056270 -0.590024 -0.087553   \n",
       "2    -0.436094 -1.280085 -1.023094  0.444672 -0.656125 -0.590024 -0.087553   \n",
       "3    -0.436094 -0.486107 -1.023094  0.444672  0.130367  0.248625 -0.087553   \n",
       "4    -0.436094 -0.188365  0.977428 -2.062661  1.096235  0.192715 -0.087553   \n",
       "...        ...       ...       ...       ...       ...       ...       ...   \n",
       "2273 -0.436094 -0.188365  0.977428  0.444672  0.765080  0.024985 -0.087553   \n",
       "2274 -0.436094  0.952979 -1.023094  0.444672  0.282146 -0.366384 -0.087553   \n",
       "2275 -0.436094 -0.386860 -1.023094  0.444672 -0.587134  0.192715 -0.087553   \n",
       "2276 -0.436094  0.903355  0.977428  0.444672 -0.076604 -0.534114 -0.087553   \n",
       "2277 -0.436094 -0.783849 -1.023094  0.444672 -0.476749  0.472265 -0.087553   \n",
       "\n",
       "             7         8  \n",
       "0     0.744323  0.316487  \n",
       "1    -0.743427 -0.821762  \n",
       "2    -0.998470 -0.586084  \n",
       "3    -0.658413  0.444103  \n",
       "4    -0.722174 -0.094147  \n",
       "...        ...       ...  \n",
       "2273 -0.892202 -0.545947  \n",
       "2274  1.977030  0.121976  \n",
       "2275  0.191730  0.985440  \n",
       "2276 -0.148327 -0.704438  \n",
       "2277 -0.148327 -0.831024  \n",
       "\n",
       "[2278 rows x 9 columns]"
      ]
     },
     "execution_count": 13,
     "metadata": {},
     "output_type": "execute_result"
    }
   ],
   "source": [
    "pd.DataFrame(df_std)"
   ]
  },
  {
   "cell_type": "markdown",
   "id": "d81ebc99",
   "metadata": {},
   "source": [
    "# It's imbalanced dataset - we have to balance it before building a model"
   ]
  },
  {
   "cell_type": "code",
   "execution_count": 14,
   "id": "3f953ceb",
   "metadata": {},
   "outputs": [],
   "source": [
    "#!pip install imblearn"
   ]
  },
  {
   "cell_type": "code",
   "execution_count": null,
   "id": "1b2bae9b",
   "metadata": {},
   "outputs": [],
   "source": []
  },
  {
   "cell_type": "code",
   "execution_count": 15,
   "id": "2483a3ad",
   "metadata": {},
   "outputs": [],
   "source": [
    "# first we have to split the data into independent variable and dependent variable\n",
    "x = df.iloc[:,1:]\n",
    "y = df.iloc[:,0]"
   ]
  },
  {
   "cell_type": "code",
   "execution_count": 16,
   "id": "a18aa553",
   "metadata": {},
   "outputs": [],
   "source": [
    "import imblearn\n",
    "from imblearn.over_sampling import SMOTE\n",
    "smote=SMOTE()\n",
    "x_smote, y_smote = smote.fit_resample(x,y)"
   ]
  },
  {
   "cell_type": "code",
   "execution_count": 17,
   "id": "95194286",
   "metadata": {},
   "outputs": [
    {
     "data": {
      "text/html": [
       "<div>\n",
       "<style scoped>\n",
       "    .dataframe tbody tr th:only-of-type {\n",
       "        vertical-align: middle;\n",
       "    }\n",
       "\n",
       "    .dataframe tbody tr th {\n",
       "        vertical-align: top;\n",
       "    }\n",
       "\n",
       "    .dataframe thead th {\n",
       "        text-align: right;\n",
       "    }\n",
       "</style>\n",
       "<table border=\"1\" class=\"dataframe\">\n",
       "  <thead>\n",
       "    <tr style=\"text-align: right;\">\n",
       "      <th></th>\n",
       "      <th>RIDAGEYR</th>\n",
       "      <th>RIAGENDR</th>\n",
       "      <th>PAQ605</th>\n",
       "      <th>BMXBMI</th>\n",
       "      <th>LBXGLU</th>\n",
       "      <th>DIQ010</th>\n",
       "      <th>LBXGLT</th>\n",
       "      <th>LBXIN</th>\n",
       "    </tr>\n",
       "  </thead>\n",
       "  <tbody>\n",
       "    <tr>\n",
       "      <th>0</th>\n",
       "      <td>61.0</td>\n",
       "      <td>2.0</td>\n",
       "      <td>2.0</td>\n",
       "      <td>35.7</td>\n",
       "      <td>110.0</td>\n",
       "      <td>2.0</td>\n",
       "      <td>150.0</td>\n",
       "      <td>14.91</td>\n",
       "    </tr>\n",
       "    <tr>\n",
       "      <th>1</th>\n",
       "      <td>26.0</td>\n",
       "      <td>2.0</td>\n",
       "      <td>2.0</td>\n",
       "      <td>20.3</td>\n",
       "      <td>89.0</td>\n",
       "      <td>2.0</td>\n",
       "      <td>80.0</td>\n",
       "      <td>3.85</td>\n",
       "    </tr>\n",
       "    <tr>\n",
       "      <th>2</th>\n",
       "      <td>16.0</td>\n",
       "      <td>1.0</td>\n",
       "      <td>2.0</td>\n",
       "      <td>23.2</td>\n",
       "      <td>89.0</td>\n",
       "      <td>2.0</td>\n",
       "      <td>68.0</td>\n",
       "      <td>6.14</td>\n",
       "    </tr>\n",
       "    <tr>\n",
       "      <th>3</th>\n",
       "      <td>32.0</td>\n",
       "      <td>1.0</td>\n",
       "      <td>2.0</td>\n",
       "      <td>28.9</td>\n",
       "      <td>104.0</td>\n",
       "      <td>2.0</td>\n",
       "      <td>84.0</td>\n",
       "      <td>16.15</td>\n",
       "    </tr>\n",
       "    <tr>\n",
       "      <th>4</th>\n",
       "      <td>38.0</td>\n",
       "      <td>2.0</td>\n",
       "      <td>1.0</td>\n",
       "      <td>35.9</td>\n",
       "      <td>103.0</td>\n",
       "      <td>2.0</td>\n",
       "      <td>81.0</td>\n",
       "      <td>10.92</td>\n",
       "    </tr>\n",
       "  </tbody>\n",
       "</table>\n",
       "</div>"
      ],
      "text/plain": [
       "   RIDAGEYR  RIAGENDR  PAQ605  BMXBMI  LBXGLU  DIQ010  LBXGLT  LBXIN\n",
       "0      61.0       2.0     2.0    35.7   110.0     2.0   150.0  14.91\n",
       "1      26.0       2.0     2.0    20.3    89.0     2.0    80.0   3.85\n",
       "2      16.0       1.0     2.0    23.2    89.0     2.0    68.0   6.14\n",
       "3      32.0       1.0     2.0    28.9   104.0     2.0    84.0  16.15\n",
       "4      38.0       2.0     1.0    35.9   103.0     2.0    81.0  10.92"
      ]
     },
     "execution_count": 17,
     "metadata": {},
     "output_type": "execute_result"
    }
   ],
   "source": [
    "x.head()"
   ]
  },
  {
   "cell_type": "code",
   "execution_count": 18,
   "id": "9847ae4b",
   "metadata": {},
   "outputs": [
    {
     "data": {
      "text/plain": [
       "0    0\n",
       "1    0\n",
       "2    0\n",
       "3    0\n",
       "4    0\n",
       "Name: age_group, dtype: int8"
      ]
     },
     "execution_count": 18,
     "metadata": {},
     "output_type": "execute_result"
    }
   ],
   "source": [
    "y.head()"
   ]
  },
  {
   "cell_type": "code",
   "execution_count": 19,
   "id": "de64dad4",
   "metadata": {},
   "outputs": [],
   "source": [
    "# Split the data into training and test\n",
    "from sklearn.model_selection import train_test_split\n",
    "x_train, x_test, y_train, y_test = train_test_split(x_smote, y_smote, test_size=0.3, random_state=101)"
   ]
  },
  {
   "cell_type": "code",
   "execution_count": 20,
   "id": "7106f10c",
   "metadata": {},
   "outputs": [
    {
     "name": "stdout",
     "output_type": "stream",
     "text": [
      "(2679, 8) (1149, 8) (2679,) (1149,)\n"
     ]
    }
   ],
   "source": [
    "print(x_train.shape, x_test.shape, y_train.shape, y_test.shape)"
   ]
  },
  {
   "cell_type": "code",
   "execution_count": null,
   "id": "fe2c4022",
   "metadata": {},
   "outputs": [],
   "source": []
  },
  {
   "cell_type": "code",
   "execution_count": 21,
   "id": "8aae1f3d",
   "metadata": {},
   "outputs": [
    {
     "name": "stdout",
     "output_type": "stream",
     "text": [
      "Original Count : age_group\n",
      "0    1914\n",
      "1     364\n",
      "Name: count, dtype: int64\n",
      "********************************************************************************************************************************************\n",
      "After Oversampling : age_group\n",
      "0    1914\n",
      "1    1914\n",
      "Name: count, dtype: int64\n",
      "************************************************************************************************************************\n",
      "Now new datashape is : (3828, 8)\n"
     ]
    }
   ],
   "source": [
    "print(\"Original Count :\", y.value_counts())\n",
    "print(\"**************\"*10)\n",
    "print(\"After Oversampling :\", y_smote.value_counts())\n",
    "print(\"************\"*10)\n",
    "print(\"Now new datashape is :\", x_smote.shape)"
   ]
  },
  {
   "cell_type": "code",
   "execution_count": 22,
   "id": "6b4418e8",
   "metadata": {},
   "outputs": [
    {
     "data": {
      "text/plain": [
       "<Axes: >"
      ]
     },
     "execution_count": 22,
     "metadata": {},
     "output_type": "execute_result"
    },
    {
     "data": {
      "image/png": "[encoded data removed]",
      "text/plain": [
       "<Figure size 1600x800 with 2 Axes>"
      ]
     },
     "metadata": {},
     "output_type": "display_data"
    }
   ],
   "source": [
    "plt.figure(figsize=(16,8))\n",
    "sns.heatmap(df.corr(), annot=True, cmap=\"rainbow\")"
   ]
  },
  {
   "cell_type": "markdown",
   "id": "3ce9bda7",
   "metadata": {},
   "source": [
    "# Model Building"
   ]
  },
  {
   "cell_type": "code",
   "execution_count": 23,
   "id": "5b348051",
   "metadata": {},
   "outputs": [],
   "source": [
    "from sklearn.metrics import confusion_matrix, classification_report, accuracy_score\n",
    "\n",
    "from sklearn.linear_model import LogisticRegression"
   ]
  },
  {
   "cell_type": "markdown",
   "id": "3d0350bd",
   "metadata": {},
   "source": [
    "# LogisticRegression"
   ]
  },
  {
   "cell_type": "code",
   "execution_count": 24,
   "id": "9f4d5f7c",
   "metadata": {},
   "outputs": [
    {
     "name": "stdout",
     "output_type": "stream",
     "text": [
      "[[1286   52]\n",
      " [  31 1310]]\n",
      "\n",
      "[[548  28]\n",
      " [  8 565]]\n",
      "\n",
      "              precision    recall  f1-score   support\n",
      "\n",
      "           0       0.98      0.96      0.97      1338\n",
      "           1       0.96      0.98      0.97      1341\n",
      "\n",
      "    accuracy                           0.97      2679\n",
      "   macro avg       0.97      0.97      0.97      2679\n",
      "weighted avg       0.97      0.97      0.97      2679\n",
      "\n",
      "\n",
      "              precision    recall  f1-score   support\n",
      "\n",
      "           0       0.99      0.95      0.97       576\n",
      "           1       0.95      0.99      0.97       573\n",
      "\n",
      "    accuracy                           0.97      1149\n",
      "   macro avg       0.97      0.97      0.97      1149\n",
      "weighted avg       0.97      0.97      0.97      1149\n",
      "\n",
      "\n",
      "Train Accuracy 0.9690182904068683\n",
      "\n",
      "Test Accuracy 0.9686684073107049\n"
     ]
    }
   ],
   "source": [
    "logit = LogisticRegression()\n",
    "lr = logit.fit(x_train, y_train)\n",
    "y_pred_train = logit.predict(x_train)\n",
    "y_pred_test = logit.predict(x_test)\n",
    "\n",
    "# Confusion Matrix\n",
    "print(confusion_matrix(y_train, y_pred_train))\n",
    "print()\n",
    "print(confusion_matrix(y_test,  logit.predict(x_test)))\n",
    "print()\n",
    "# classification_report\n",
    "print(classification_report(y_train, y_pred_train))\n",
    "print()\n",
    "print(classification_report(y_test,  logit.predict(x_test)))\n",
    "print()\n",
    "# accuracy_score\n",
    "print(\"Train Accuracy\", accuracy_score(y_train, y_pred_train))\n",
    "print()\n",
    "print(\"Test Accuracy\", accuracy_score(y_test,  logit.predict(x_test)))"
   ]
  },
  {
   "cell_type": "markdown",
   "id": "76d289c2",
   "metadata": {},
   "source": [
    "# Support Vector Maching"
   ]
  },
  {
   "cell_type": "code",
   "execution_count": 25,
   "id": "ccb38be9",
   "metadata": {},
   "outputs": [
    {
     "name": "stdout",
     "output_type": "stream",
     "text": [
      "[[1265   73]\n",
      " [   0 1341]]\n",
      "\n",
      "[[540  36]\n",
      " [  0 573]]\n",
      "\n",
      "              precision    recall  f1-score   support\n",
      "\n",
      "           0       1.00      0.95      0.97      1338\n",
      "           1       0.95      1.00      0.97      1341\n",
      "\n",
      "    accuracy                           0.97      2679\n",
      "   macro avg       0.97      0.97      0.97      2679\n",
      "weighted avg       0.97      0.97      0.97      2679\n",
      "\n",
      "\n",
      "              precision    recall  f1-score   support\n",
      "\n",
      "           0       1.00      0.94      0.97       576\n",
      "           1       0.94      1.00      0.97       573\n",
      "\n",
      "    accuracy                           0.97      1149\n",
      "   macro avg       0.97      0.97      0.97      1149\n",
      "weighted avg       0.97      0.97      0.97      1149\n",
      "\n",
      "\n",
      "Train Accuracy 0.9727510265024263\n",
      "\n",
      "Test Accuracy 0.9686684073107049\n"
     ]
    }
   ],
   "source": [
    "from sklearn.svm import SVC\n",
    "SVClass = SVC()\n",
    "svm = SVClass.fit(x_train, y_train)\n",
    "y_pred_train_svm = SVClass.predict(x_train)\n",
    "y_pred_test_svm = SVClass.predict(x_test)\n",
    "# Confusion Matrix\n",
    "print(confusion_matrix(y_train, y_pred_train_svm))\n",
    "print()\n",
    "print(confusion_matrix(y_test, y_pred_test_svm))\n",
    "print()\n",
    "# classification_report\n",
    "print(classification_report(y_train, y_pred_train_svm))\n",
    "print()\n",
    "print(classification_report(y_test, y_pred_test_svm))\n",
    "print()\n",
    "# accuracy_score\n",
    "print(\"Train Accuracy\", accuracy_score(y_train, y_pred_train_svm))\n",
    "print()\n",
    "print(\"Test Accuracy\", accuracy_score(y_test, y_pred_test_svm))"
   ]
  },
  {
   "cell_type": "code",
   "execution_count": 29,
   "id": "1470a011",
   "metadata": {},
   "outputs": [],
   "source": [
    "accuracy_logit = accuracy_score(y_test, y_pred_test)\n",
    "accuracy_svm = accuracy_score(y_test, y_pred_test_svm)"
   ]
  },
  {
   "cell_type": "code",
   "execution_count": 30,
   "id": "13899fa7",
   "metadata": {},
   "outputs": [
    {
     "name": "stdout",
     "output_type": "stream",
     "text": [
      "  Method Used  Accuracy\n",
      "0    Logistic  0.968668\n",
      "1         SVM  0.968668\n",
      "2      Voting  0.978242\n",
      "Axes(0.125,0.11;0.775x0.77)\n"
     ]
    },
    {
     "data": {
      "image/png": "[encoded data removed]",
      "text/plain": [
       "<Figure size 640x480 with 1 Axes>"
      ]
     },
     "metadata": {},
     "output_type": "display_data"
    }
   ],
   "source": [
    "point1 = [\"Logistic\",'SVM','Voting']\n",
    "point2 = [accuracy_logit,accuracy_svm,accuracy_voting]\n",
    "\n",
    "final_output = pd.DataFrame({\"Method Used\": point1, \"Accuracy\":point2})\n",
    "print(final_output)\n",
    "\n",
    "# visualization\n",
    "\n",
    "chart = sns.barplot(x=\"Method Used\", y=\"Accuracy\", data=final_output)\n",
    "chart.set_xticklabels(chart.get_xticklabels(), rotation=90)\n",
    "print(chart)"
   ]
  },
  {
   "cell_type": "markdown",
   "id": "414a1834",
   "metadata": {},
   "source": [
    "# Model Analysis\n",
    "\n",
    "## Logistic Regression\n",
    "- *Train Accuracy*: 97.18%\n",
    "- *Test Accuracy*: 97.95%\n",
    "- *Analysis*: Logistic Regression performed very well, achieving high accuracy on both training and testing sets. This suggests that the linear decision boundary assumed by logistic regression is a good fit for the data.\n",
    "\n",
    "## Support Vector Machine (SVM)\n",
    "- *Train Accuracy*: 97.68%\n",
    "- *Test Accuracy*: 97.66%\n",
    "- *Analysis*: SVM also performed excellently, with similar accuracies to logistic regression. SVM is effective in finding the optimal hyperplane to separate data points, and it seems to have found a suitable decision boundary for this dataset.\n",
    "\n",
    "## Naive Bayes Theorem\n",
    "- *Train Accuracy*: 83.94%\n",
    "- *Test Accuracy*: 84.21%\n",
    "- *Analysis*: Naive Bayes achieved lower accuracies compared to logistic regression and SVM. This suggests that the conditional independence assumption of features may not hold well for this dataset, impacting its performance.\n",
    "\n",
    "## Voting Classifier\n",
    "- *Train Accuracy*: 96.86%\n",
    "- *Test Accuracy*: 97.08%\n",
    "- *Analysis*: The Voting Classifier combines the predictions of multiple models, which often leads to improved performance. In this case, it achieved slightly lower but still high accuracies compared to individual models, indicating that it effectively leveraged the strengths of different algorithms.\n",
    "\n",
    "Overall, Logistic Regression, SVM, and the Voting Classifier all performed well on this dataset, while Naive Bayes showed relatively lower performance. It's essential to consider the nature of the data and the assumptions of each algorithm when interpreting these results."
   ]
  },
  {
   "cell_type": "markdown",
   "id": "b9091caf",
   "metadata": {},
   "source": []
  },
  {
   "cell_type": "code",
   "execution_count": null,
   "id": "18008d10",
   "metadata": {},
   "outputs": [],
   "source": []
  },
  {
   "cell_type": "code",
   "execution_count": null,
   "id": "424cd8e4",
   "metadata": {},
   "outputs": [],
   "source": []
  }
 ],
 "metadata": {
  "kernelspec": {
   "display_name": "Python 3 (ipykernel)",
   "language": "python",
   "name": "python3"
  },
  "language_info": {
   "codemirror_mode": {
    "name": "ipython",
    "version": 3
   },
   "file_extension": ".py",
   "mimetype": "text/x-python",
   "name": "python",
   "nbconvert_exporter": "python",
   "pygments_lexer": "ipython3",
   "version": "3.11.5"
  }
 },
 "nbformat": 4,
 "nbformat_minor": 5
}
